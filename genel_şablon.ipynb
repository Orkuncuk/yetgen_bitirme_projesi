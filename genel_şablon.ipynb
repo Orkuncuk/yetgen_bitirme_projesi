{
 "cells": [
  {
   "cell_type": "code",
   "execution_count": null,
   "metadata": {},
   "outputs": [],
   "source": [
    "# veri dosyası yoksa çalışmaz\n",
    "import pandas as pd\n",
    "from sklearn.feature_extraction.text import TfidfVectorizer\n",
    "from sklearn.metrics.pairwise import cosine_similarity\n",
    "\n",
    "recipes_df = pd.read_csv('RAW_recipes123.csv')\n",
    "# Yemek tariflerinin bulunduğu CSV dosyasını yükle\n",
    "class Yemek:\n",
    "    def __init__(self, ingredients_list = []):\n",
    "        self.ingredients_list= ingredients_list\n",
    "\n",
    "    def malzemeler(self): # malzemleri girmesi için fonksiyon\n",
    "        malzemeler = input(\"virgul kullanarak girirniz\")\n",
    "        self.ingredients_list = malzemeler.split(\",\")\n",
    "# alltaki öneri algortiması nasıl çalıştığını anlmaya çalışıyorum gelistirmek için\n",
    "    def recommend_meal(self, recipes_df): \n",
    "    # Tüm tariflerin açıklamalarını bir liste olarak al\n",
    "        descriptions = recipes_df['ingredients'].tolist()\n",
    "\n",
    "        # TfidfVectorizer kullanarak açıklamaları vektörlere dönüştür\n",
    "        vectorizer = TfidfVectorizer(stop_words='english')\n",
    "        vectorized = vectorizer.fit_transform(descriptions)\n",
    "\n",
    "        # Kullanıcının verdiği malzemelerle en iyi eşleşen yemeği seç\n",
    "        ingredient_vector = vectorizer.transform([' '.join(self.ingredients_list)])\n",
    "        similarity = cosine_similarity(ingredient_vector, vectorized)\n",
    "        best_recipe_idx = similarity.argmax()\n",
    "        best_recipe = recipes_df.iloc[best_recipe_idx]\n",
    "        print(\"We recommend the following meal: \", best_recipe['name'])\n",
    "yemek = Yemek()\n",
    "# komutlar ile ne yapacağımızı söylüyoruz\n",
    "while True:\n",
    "    islem = input(\"q : cıkıs\")\n",
    "    if islem == \"q\":\n",
    "            print(\"işlem sonlandırılıyore...\")\n",
    "            break\n",
    "    elif islem == \"1\": # malzemeleri girmek için 1 yazıyoruz\n",
    "        yemek.malzemeler()\n",
    "    elif islem == \"2\": # çıktıyı almak için 2\n",
    "        yemek.recommend_meal(recipes_df)\n",
    "    "
   ]
  }
 ],
 "metadata": {
  "language_info": {
   "name": "python"
  },
  "orig_nbformat": 4
 },
 "nbformat": 4,
 "nbformat_minor": 2
}
