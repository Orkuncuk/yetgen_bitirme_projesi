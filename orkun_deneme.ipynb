{
 "cells": [
  {
   "cell_type": "code",
   "execution_count": null,
   "metadata": {},
   "outputs": [],
   "source": [
    "import pandas as pd\n",
    "from sklearn.feature_extraction.text import TfidfVectorizer\n",
    "from sklearn.metrics.pairwise import cosine_similarity\n",
    "class RecipeRecommender:\n",
    "    \n",
    "    def __init__(self, ingreditans = [], sıradaki_besli = [0,5],):\n",
    "        self.vectorizer = TfidfVectorizer(stop_words='english')\n",
    "        self.sırdaki_besli = sıradaki_besli\n",
    "        self.ingreditans = ingreditans if ingreditans is not None else []\n",
    "        self.df = pd.read_csv(\"RAW_recipes.csv\")\n",
    "    \n",
    "    def benzer_yemekler(self):\n",
    "        df = pd.read_csv(\"RAW_recipes.csv\")\n",
    "        tfidf = TfidfVectorizer()\n",
    "        malzemeler_str = \" \".join(self.ingreditans)\n",
    "        malzemeler_vektoru = tfidf.fit_transform([malzemeler_str])\n",
    "        cosbenzerlik = cosine_similarity(malzemeler_vektoru, tfidf.transform(self.df[\"ingredients\"]))\n",
    "        self.df[\"cosbenzerlik\"] = cosbenzerlik[0]\n",
    "        self.df = df.sort_values(by=\"cosbenzerlik\", ascending=False)\n",
    "        \n",
    "    def sıradaki_yemekler(self):\n",
    "        benzer_yemekler = df[self.sırdaki_besli[0]:self.sırdaki_besli[1]]\n",
    "        while True:\n",
    "            devam_mı = input(\"çıkış için : q, sırdaki beşli için 1\")\n",
    "            if devam_mı == 1:\n",
    "                self.sırdaki_besli[0] +=5\n",
    "                self.sırdaki_besli[1] +=5\n",
    "                return benzer_yemekler\n",
    "            else:\n",
    "                break\n",
    "    def içindekiler(self,yeni_yemek):\n",
    "        self.ingreditans.append(yeni_yemek)\n",
    "\n",
    "yemek = RecipeRecommender()\n",
    "while True:\n",
    "    islem = input(\"işlem seçiniz\")\n",
    "    if islem == \"q\":\n",
    "        print(\"işlem sonlandırılıyore...\")\n",
    "        break\n",
    "    elif islem == \"1\":\n",
    "        yemek.içindekiler()\n",
    "    elif islem == \"4\":\n",
    "        yemek_ismi = input(\"yemek ismi giriniz\")\n",
    "        yemek_listesi = yemek_ismi.split(\",\")\n",
    "        for i in yemek_listesi:\n",
    "            yemek.içindekiler(i)\n"
   ]
  }
 ],
 "metadata": {
  "language_info": {
   "name": "python"
  },
  "orig_nbformat": 4
 },
 "nbformat": 4,
 "nbformat_minor": 2
}
