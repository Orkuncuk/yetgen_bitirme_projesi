{
 "cells": [
  {
   "cell_type": "code",
   "execution_count": null,
   "metadata": {},
   "outputs": [],
   "source": [
    "class RecipeRecommender:\n",
    "    \n",
    "    def __init__(self, recipe_file, sıradaki_besli = [0,5], ingreditans = [None]):\n",
    "        self.recipes = pd.read_csv(recipe_file)\n",
    "        self.vectorizer = TfidfVectorizer(stop_words='english')\n",
    "        self.sırdaki_besli = sıradaki_besli\n",
    "        self.ingreditans = ingreditans\n",
    "    \n",
    "    def benzer_yemekler(self):\n",
    "        df = pd.read_csv(\"RAW_recipes.csv\")\n",
    "        tfidf = TfidfVectorizer()\n",
    "        malzemeler_str = \" \".join(malzemeler)\n",
    "        malzemeler_vektoru = tfidf.fit_transform([malzemeler_str])\n",
    "        cosbenzerlik = cosine_similarity(malzemeler_vektoru, tfidf.transform(df[\"ingredients\"]))\n",
    "        df[\"cosbenzerlik\"] = cosbenzerlik[0]\n",
    "        df = df.sort_values(by=\"cosbenzerlik\", ascending=False)\n",
    "        \n",
    "    def sıradaki_yemekler(self):\n",
    "        benzer_yemekler = df[self.sırdaki_besli[0]:self.sırdaki_besli[1]]\n",
    "        while True:\n",
    "            devam_mı = input(\"çıkış için : q, sırdaki beşli için 1\")\n",
    "            if devam_mı == 1:\n",
    "                self.sırdaki_besli[0] +=5\n",
    "                self.sırdaki_besli[1] +=5\n",
    "                return benzer_yemekler\n",
    "            else:\n",
    "                break\n",
    "    def içindekiler(self):\n",
    "        devam_mı = input(\"çıkış için : q\")\n",
    "        while True:\n",
    "            if devam_mı == \"q\":\n",
    "                break\n",
    "            else:\n",
    "                self.ingreditans.append(devam_mı)\n"
   ]
  }
 ],
 "metadata": {
  "language_info": {
   "name": "python"
  },
  "orig_nbformat": 4
 },
 "nbformat": 4,
 "nbformat_minor": 2
}
